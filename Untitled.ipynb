{
 "cells": [
  {
   "cell_type": "code",
   "execution_count": 17,
   "metadata": {},
   "outputs": [],
   "source": [
    "def myfunc(*args):\n",
    "    list_evens = []\n",
    "    for number in args:\n",
    "        if number % 2 == 0:\n",
    "            list_evens.append (number)\n",
    "        else:\n",
    "            pass               \n",
    "    return list_evens\n"
   ]
  },
  {
   "cell_type": "code",
   "execution_count": 18,
   "metadata": {},
   "outputs": [
    {
     "data": {
      "text/plain": [
       "[2, 4, 6]"
      ]
     },
     "execution_count": 18,
     "metadata": {},
     "output_type": "execute_result"
    }
   ],
   "source": [
    "myfunc (2,4,6,7)"
   ]
  },
  {
   "cell_type": "code",
   "execution_count": 57,
   "metadata": {},
   "outputs": [],
   "source": [
    "def newfunc(word_in):\n",
    "    word_out = ''\n",
    "    for i in range(0,len(word_in)):\n",
    "        if i % 2 == 0:\n",
    "           word_out += word_in[i].upper()\n",
    "        else:\n",
    "            word_out += word_in[i].lower()\n",
    "    return word_out\n",
    "            \n",
    "            \n",
    "      \n",
    "            \n",
    "            "
   ]
  },
  {
   "cell_type": "code",
   "execution_count": 58,
   "metadata": {},
   "outputs": [
    {
     "data": {
      "text/plain": [
       "'StEvE'"
      ]
     },
     "execution_count": 58,
     "metadata": {},
     "output_type": "execute_result"
    }
   ],
   "source": [
    "newfunc('Steve')"
   ]
  },
  {
   "cell_type": "code",
   "execution_count": 69,
   "metadata": {},
   "outputs": [],
   "source": [
    "def level1(a,b):\n",
    "    if a % 2 == 0 and b % 2 ==0:\n",
    "        if a > b:\n",
    "            return b\n",
    "        else: \n",
    "            return a\n",
    "    else:\n",
    "        if a > b:\n",
    "            return a\n",
    "        else: \n",
    "            return b"
   ]
  },
  {
   "cell_type": "code",
   "execution_count": 73,
   "metadata": {},
   "outputs": [
    {
     "data": {
      "text/plain": [
       "4"
      ]
     },
     "execution_count": 73,
     "metadata": {},
     "output_type": "execute_result"
    }
   ],
   "source": [
    "level1 (6,4)"
   ]
  },
  {
   "cell_type": "code",
   "execution_count": 99,
   "metadata": {},
   "outputs": [],
   "source": [
    "def animal_crackers(text):\n",
    "    first = (text[0])\n",
    "    for i in range(0,len(text)):\n",
    "        if text[i] == \" \":\n",
    "            second = (text[i+1])\n",
    "        else:\n",
    "            pass\n",
    "    if first == second:\n",
    "        return True\n",
    "    else:\n",
    "        return False\n",
    "    \n",
    "    \n",
    "    "
   ]
  },
  {
   "cell_type": "code",
   "execution_count": 101,
   "metadata": {},
   "outputs": [
    {
     "data": {
      "text/plain": [
       "True"
      ]
     },
     "execution_count": 101,
     "metadata": {},
     "output_type": "execute_result"
    }
   ],
   "source": [
    "animal_crackers('stuff sike')"
   ]
  },
  {
   "cell_type": "code",
   "execution_count": 142,
   "metadata": {},
   "outputs": [],
   "source": [
    "def has_33(*args):\n",
    "    current = ''   \n",
    "    for i in args:\n",
    "            previous = current\n",
    "            current = i\n",
    "            if previous == 3 and current == 3:\n",
    "                return True\n",
    "            else:\n",
    "                pass\n",
    "    return False\n",
    "            \n",
    "    \n",
    "    "
   ]
  },
  {
   "cell_type": "code",
   "execution_count": 145,
   "metadata": {},
   "outputs": [
    {
     "data": {
      "text/plain": [
       "True"
      ]
     },
     "execution_count": 145,
     "metadata": {},
     "output_type": "execute_result"
    }
   ],
   "source": [
    "has_33(12,15,23,3,3)"
   ]
  },
  {
   "cell_type": "code",
   "execution_count": 12,
   "metadata": {},
   "outputs": [
    {
     "name": "stdout",
     "output_type": "stream",
     "text": [
      "[' ', ' ', ' ']\n",
      "[' ', ' ', ' ']\n",
      "[' ', ' ', ' ']\n"
     ]
    }
   ],
   "source": [
    "row1 = [' ',' ',' ']\n",
    "row2 = [' ',' ',' ']\n",
    "row3 = [' ',' ',' ']\n",
    "\n",
    "def display(row1,row2,row3):\n",
    "    print (row1)\n",
    "    print (row2)\n",
    "    print (row3)\n",
    "    \n",
    "display(row1,row2,row3)\n",
    "\n",
    "def user_choice():\n",
    "\n",
    "    result_row = 'Start Value'\n",
    "    while result_row.isdigit() == False:\n",
    "        result_row = input (\"Please enter a row value: \")\n",
    "\n",
    "    result_column = int(input('Please enter a column value: ')) -1\n",
    "\n"
   ]
  },
  {
   "cell_type": "raw",
   "metadata": {},
   "source": [
    "user_choice()"
   ]
  },
  {
   "cell_type": "code",
   "execution_count": 10,
   "metadata": {},
   "outputs": [],
   "source": [
    "def user_choice():\n",
    "    #starting values\n",
    "    acceptable_values = [0,1,2]\n",
    "    within_range = False\n",
    "    result_row = 'Start Value'\n",
    "    result_column = 'Start Value'\n",
    "    \n",
    "    #row logic\n",
    "    while result_row.isdigit() == False or within_range == False:\n",
    "        result_row = input (\"Please enter a row value: \")\n",
    "        if result_row.isdigit() == False:\n",
    "            print(\"Sorry this is not a digit!\")\n",
    "        else:\n",
    "            within_range = int(result_row) in acceptable_values\n",
    "            if within_range == False:\n",
    "                print(\"Sorry this number is not in range\")\n",
    "                \n",
    "    #column logic\n",
    "    #reset within_range\n",
    "    within_range = False\n",
    "    \n",
    "    while result_column.isdigit() == False or within_range == False:\n",
    "        result_column = input (\"Please enter a column value: \")\n",
    "        if result_column.isdigit() == False:\n",
    "            print(\"Sorry this is not a digit!\")\n",
    "        else:\n",
    "            within_range = int(result_column) in acceptable_values\n",
    "            if within_range == False:\n",
    "                print(\"Sorry this number is not in range\")\n"
   ]
  },
  {
   "cell_type": "code",
   "execution_count": 9,
   "metadata": {},
   "outputs": [
    {
     "name": "stdout",
     "output_type": "stream",
     "text": [
      "Please enter a row value: d\n",
      "Sorry this is not a digit!\n",
      "Please enter a row value: 4\n",
      "Sorry this number is not in range\n",
      "Please enter a row value: 2\n",
      "Please enter a column value: 1\n"
     ]
    }
   ],
   "source": [
    "user_choice()"
   ]
  },
  {
   "cell_type": "code",
   "execution_count": 11,
   "metadata": {},
   "outputs": [
    {
     "name": "stdout",
     "output_type": "stream",
     "text": [
      "[' ', ' ', ' ']\n",
      "[' ', ' ', ' ']\n",
      "[' ', ' ', ' ']\n"
     ]
    }
   ],
   "source": [
    "row1 = [' ',' ',' ']\n",
    "row2 = [' ',' ',' ']\n",
    "row3 = [' ',' ',' ']\n",
    "\n",
    "def display(row1,row2,row3):\n",
    "    print (row1)\n",
    "    print (row2)\n",
    "    print (row3)\n",
    "    \n",
    "display(row1,row2,row3)"
   ]
  },
  {
   "cell_type": "code",
   "execution_count": null,
   "metadata": {},
   "outputs": [],
   "source": []
  }
 ],
 "metadata": {
  "kernelspec": {
   "display_name": "Python 3",
   "language": "python",
   "name": "python3"
  },
  "language_info": {
   "codemirror_mode": {
    "name": "ipython",
    "version": 3
   },
   "file_extension": ".py",
   "mimetype": "text/x-python",
   "name": "python",
   "nbconvert_exporter": "python",
   "pygments_lexer": "ipython3",
   "version": "3.8.5"
  }
 },
 "nbformat": 4,
 "nbformat_minor": 4
}
