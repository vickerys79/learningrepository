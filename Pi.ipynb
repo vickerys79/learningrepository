{
 "cells": [
  {
   "cell_type": "code",
   "execution_count": 1,
   "metadata": {},
   "outputs": [
    {
     "ename": "SyntaxError",
     "evalue": "invalid syntax (<ipython-input-1-0660b64d916a>, line 1)",
     "output_type": "error",
     "traceback": [
      "\u001b[1;36m  File \u001b[1;32m\"<ipython-input-1-0660b64d916a>\"\u001b[1;36m, line \u001b[1;32m1\u001b[0m\n\u001b[1;33m    =22/7\u001b[0m\n\u001b[1;37m    ^\u001b[0m\n\u001b[1;31mSyntaxError\u001b[0m\u001b[1;31m:\u001b[0m invalid syntax\n"
     ]
    }
   ],
   "source": [
    "=22/7"
   ]
  },
  {
   "cell_type": "code",
   "execution_count": 11,
   "metadata": {},
   "outputs": [
    {
     "name": "stdout",
     "output_type": "stream",
     "text": [
      "Please enter the number of decimal places you wish to round PI to?7\n",
      "Your rounded pi number is 3.1428571\n"
     ]
    }
   ],
   "source": [
    "rounding = int(input('Please enter the number of decimal places you wish to round PI to?'))\n",
    "output = str(round(22/7,rounding))\n",
    "print (\"Your rounded pi number is \" + output)"
   ]
  },
  {
   "cell_type": "code",
   "execution_count": null,
   "metadata": {},
   "outputs": [
    {
     "name": "stdout",
     "output_type": "stream",
     "text": [
      "Welcome to Pi Calculator. In the shell below Enter the number of digits upto which the value of Pi should be calculated or enter quit to exit\n",
      ">>> 7\n",
      "3.1415926\n",
      ">>> "
     ]
    }
   ],
   "source": [
    "\"\"\"\n",
    "Name: pi.py\n",
    "Purpose: Get the value of Pi to n number of decimal places\n",
    "Author: Pradipta (geekpradd)\n",
    "Algorithm: Chudnovsky Algorithm\n",
    "License: MIT\n",
    "Module Dependencies:\n",
    "Math provides fast square rooting\n",
    "Decimal gives the Decimal data type which is much better than Float\n",
    "sys is needed to set the depth for recursion.\n",
    "\"\"\"\n",
    "from __future__ import print_function\n",
    "import math, sys\n",
    "from decimal import *\n",
    "getcontext().rounding = ROUND_FLOOR\n",
    "sys.setrecursionlimit(100000)\n",
    "\n",
    "python2 = sys.version_info[0] == 2\n",
    "if python2:\n",
    "\tinput = raw_input\n",
    "\n",
    "def factorial(n):\n",
    "\t\"\"\"\n",
    "\tReturn the Factorial of a number using recursion\n",
    "\tParameters:\n",
    "\tn -- Number to get factorial of\n",
    "\t\"\"\"\n",
    "\tif not n:\n",
    "\t\treturn 1\n",
    "\treturn n*factorial(n-1)\n",
    "\n",
    "\n",
    "def getIteratedValue(k):\n",
    "\t\"\"\"\n",
    "\tReturn the Iterations as given in the Chudnovsky Algorithm.\n",
    "\tk iterations gives k-1 decimal places.. Since we need k decimal places\n",
    "\tmake iterations equal to k+1\n",
    "\t\n",
    "\tParameters:\n",
    "\tk  -- Number of Decimal Digits to get\n",
    "\t\"\"\"\n",
    "\tk = k+1\n",
    "\tgetcontext().prec = k\n",
    "\tsum=0\n",
    "\tfor k in range(k):\n",
    "\t\tfirst = factorial(6*k)*(13591409+545140134*k)\n",
    "\t\tdown = factorial(3*k)*(factorial(k))**3*(640320**(3*k))\n",
    "\t\tsum += first/down \n",
    "\treturn Decimal(sum) \n",
    "\n",
    "def getValueOfPi(k):\n",
    "\t\"\"\"\n",
    "\tReturns the calculated value of Pi using the iterated value of the loop\n",
    "\tand some division as given in the Chudnovsky Algorithm\n",
    "\tParameters:\n",
    "\tk -- Number of Decimal Digits upto which the value of Pi should be calculated\n",
    "\t\"\"\"\n",
    "\titer = getIteratedValue(k)\n",
    "\tup = 426880*math.sqrt(10005)\n",
    "\tpi = Decimal(up)/iter \n",
    "\t\n",
    "\treturn pi\n",
    "\n",
    "def shell():\n",
    "\t\"\"\"\n",
    "\tConsole Function to create the interactive Shell.\n",
    "\tRuns only when __name__ == __main__ that is when the script is being called directly\n",
    "\tNo return value and Parameters\n",
    "\t\"\"\"\n",
    "\tprint (\"Welcome to Pi Calculator. In the shell below Enter the number of digits upto which the value of Pi should be calculated or enter quit to exit\")\n",
    "\n",
    "\twhile True:\n",
    "\t\tprint (\">>> \", end='')\n",
    "\t\tentry = input()\n",
    "\t\tif entry == \"quit\":\n",
    "\t\t\tbreak\n",
    "\t\tif not entry.isdigit():\n",
    "\t\t\tprint (\"You did not enter a number. Try again\")\n",
    "\t\telse:\n",
    "\t\t\tprint (getValueOfPi(int(entry)))\n",
    "\n",
    "if __name__=='__main__':\n",
    "\n",
    "\tshell()"
   ]
  },
  {
   "cell_type": "code",
   "execution_count": null,
   "metadata": {},
   "outputs": [],
   "source": []
  }
 ],
 "metadata": {
  "kernelspec": {
   "display_name": "Python 3",
   "language": "python",
   "name": "python3"
  },
  "language_info": {
   "codemirror_mode": {
    "name": "ipython",
    "version": 3
   },
   "file_extension": ".py",
   "mimetype": "text/x-python",
   "name": "python",
   "nbconvert_exporter": "python",
   "pygments_lexer": "ipython3",
   "version": "3.8.5"
  }
 },
 "nbformat": 4,
 "nbformat_minor": 4
}
