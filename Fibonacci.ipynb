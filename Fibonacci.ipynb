{
 "cells": [
  {
   "cell_type": "code",
   "execution_count": 34,
   "metadata": {},
   "outputs": [],
   "source": [
    "def askint():\n",
    "     while True:\n",
    "            try:\n",
    "                sequence = int(input (\"How many numbers in the fibonacci sequence do you want to display?\"))\n",
    "            except:\n",
    "                print('It looks like you did not enter a number, please try again')\n",
    "                continue\n",
    "            else:\n",
    "                return sequence\n",
    "                break\n",
    "           \n",
    "        \n",
    "def execute():\n",
    "    sequence = askint()\n",
    "    first = 0\n",
    "    second = 1\n",
    "    if sequence == 0:\n",
    "        display = ('You have choosen to display no numbers!')\n",
    "    elif sequence == 1: \n",
    "        display = str(first)\n",
    "    else:\n",
    "        display = str(first) + ', ' + str(second)\n",
    "        for x in range(sequence-2):\n",
    "            new_number = first + second\n",
    "            first = second\n",
    "            second = new_number\n",
    "            display = display + ', '+ str(second)\n",
    "\n",
    "    print (display)\n"
   ]
  },
  {
   "cell_type": "code",
   "execution_count": 35,
   "metadata": {},
   "outputs": [
    {
     "name": "stdout",
     "output_type": "stream",
     "text": [
      "How many numbers in the fibonacci sequence do you want to display?3\n",
      "0, 1, 1\n"
     ]
    }
   ],
   "source": [
    "execute()"
   ]
  },
  {
   "cell_type": "code",
   "execution_count": 92,
   "metadata": {},
   "outputs": [],
   "source": [
    "def askint():\n",
    "    \n",
    "    choice = input('Type 1 to display a fibonnaci series or 2 if you want to return a specific value in the series')\n",
    "    if int(choice) == 1:\n",
    "         while True:\n",
    "                try:\n",
    "                    sequence = int(input (\"How many numbers in the fibonacci sequence do you want to display?\"))\n",
    "                except:\n",
    "                    print('It looks like you did not enter a number, please try again or type quit to exit the program')\n",
    "                    continue\n",
    "                else:\n",
    "                    return (sequence, choice)\n",
    "                    break\n",
    "    else:\n",
    "        while True:\n",
    "                try:\n",
    "                    sequence = int(input (\"What number in the series do you want to return?\"))\n",
    "                except:\n",
    "                    print('It looks like you did not enter a number, please try again or type quit to exit the program')\n",
    "                    continue\n",
    "                else:\n",
    "                    return (sequence, choice)\n",
    "                    break\n",
    "\n",
    "                   \n",
    "        \n",
    "def execute():\n",
    "    sequence, choice = askint()\n",
    "    values = [0,1]\n",
    "    if sequence == 0:\n",
    "        display = ('You have choosen to display no numbers!')\n",
    "    elif sequence == 1: \n",
    "        display = str(values[0])\n",
    "    else:\n",
    "        display = str(values[0]) + ', ' + str(values[1])\n",
    "        for x in range(sequence-2):\n",
    "            values = values + [(values[(0+x)] + values[(1+x)])]\n",
    "    if int(choice) ==1:\n",
    "        print (values)\n",
    "    else:\n",
    "        print(values[int(sequence)-1])\n"
   ]
  },
  {
   "cell_type": "code",
   "execution_count": 94,
   "metadata": {},
   "outputs": [
    {
     "name": "stdout",
     "output_type": "stream",
     "text": [
      "Type 1 to display a fibonnaci series or 2 if you want to return a specific value in the series1\n",
      "How many numbers in the fibonacci sequence do you want to display?27\n",
      "[0, 1, 1, 2, 3, 5, 8, 13, 21, 34, 55, 89, 144, 233, 377, 610, 987, 1597, 2584, 4181, 6765, 10946, 17711, 28657, 46368, 75025, 121393]\n"
     ]
    }
   ],
   "source": [
    "execute()"
   ]
  },
  {
   "cell_type": "code",
   "execution_count": 95,
   "metadata": {},
   "outputs": [
    {
     "name": "stdout",
     "output_type": "stream",
     "text": [
      "Type 1 to display a fibonnaci series or 2 if you want to return a specific value in the series2\n",
      "What number in the series do you want to return?27\n",
      "121393\n"
     ]
    }
   ],
   "source": [
    "execute()"
   ]
  },
  {
   "cell_type": "code",
   "execution_count": null,
   "metadata": {},
   "outputs": [],
   "source": []
  }
 ],
 "metadata": {
  "kernelspec": {
   "display_name": "Python 3",
   "language": "python",
   "name": "python3"
  },
  "language_info": {
   "codemirror_mode": {
    "name": "ipython",
    "version": 3
   },
   "file_extension": ".py",
   "mimetype": "text/x-python",
   "name": "python",
   "nbconvert_exporter": "python",
   "pygments_lexer": "ipython3",
   "version": "3.8.5"
  }
 },
 "nbformat": 4,
 "nbformat_minor": 4
}
