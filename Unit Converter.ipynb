{
 "cells": [
  {
   "cell_type": "code",
   "execution_count": 47,
   "metadata": {},
   "outputs": [],
   "source": [
    "def typeofconversion():\n",
    "\n",
    "    validinputs = [1.0,2.0]\n",
    "\n",
    "    while True:      \n",
    "            conversiontype = int(input('What type of conversion do you want to make? \\n'\\\n",
    "                                       '1. Temperature Farenheit to Celsius \\n'\\\n",
    "                                       '2. Temperature Celsius to Farenheit \\n'))\n",
    "            if conversiontype not in validinputs:\n",
    "                print('You have not entered a valid value, please try again')\n",
    "                continue\n",
    "            else:\n",
    "                return conversiontype\n",
    "                break\n",
    "                                                                                                                \n",
    "def executeconversion():\n",
    "    conversiontype = typeofconversion()\n",
    "    \n",
    "    valuetoconvert = int(input('What value do you want to convert \\n'))\n",
    "    \n",
    "    if conversiontype == 1:\n",
    "        output = (valuetoconvert - 32) * 5/9\n",
    "    elif conversiontype == 2:\n",
    "        output = (valuetoconvert * 9/5) + 32\n",
    "    \n",
    "    output = str(output)\n",
    "    print ('The output of your conversion is ' + (output) + ' degrees')\n",
    "    \n",
    "       "
   ]
  },
  {
   "cell_type": "code",
   "execution_count": 30,
   "metadata": {},
   "outputs": [
    {
     "name": "stdout",
     "output_type": "stream",
     "text": [
      "What type of conversion do you want to make? \n",
      "1. Temperature Farenheit to Celsius \n",
      "2. Temperature Celsius to Farenheit \n",
      "1\n"
     ]
    },
    {
     "data": {
      "text/plain": [
       "1"
      ]
     },
     "execution_count": 30,
     "metadata": {},
     "output_type": "execute_result"
    }
   ],
   "source": [
    "typeofconversion()"
   ]
  },
  {
   "cell_type": "code",
   "execution_count": 48,
   "metadata": {},
   "outputs": [
    {
     "name": "stdout",
     "output_type": "stream",
     "text": [
      "What type of conversion do you want to make? \n",
      "1. Temperature Farenheit to Celsius \n",
      "2. Temperature Celsius to Farenheit \n",
      "2\n",
      "What value do you want to convert \n",
      "100\n",
      "The output of your conversion is 212.0 degrees\n"
     ]
    }
   ],
   "source": [
    "executeconversion()"
   ]
  },
  {
   "cell_type": "code",
   "execution_count": 49,
   "metadata": {},
   "outputs": [],
   "source": [
    "'''\n",
    "Created on 12/07/2013\n",
    "@author: luke\n",
    "'''\n",
    "from math import ceil\n",
    "import urllib.request\n",
    "import json\n",
    "\n",
    "class Converter():\n",
    "    _temps   = {'cf': lambda c: c*(9/5)+32,\n",
    "               'fc': lambda f: (f-32)*(5/9),\n",
    "               'ck': lambda c: c+273.15,\n",
    "               'kc': lambda k: k-273.15,\n",
    "               'fk': lambda f: (f+459.67)*5/9,\n",
    "               'kf': lambda k: k*(9/5)-459.67\n",
    "        } \n",
    "    \n",
    "    @classmethod\n",
    "    def binToDec(cls, bin_no):\n",
    "        \"\"\"\n",
    "        @param bin_no:  an integer or str representation of a binary number\n",
    "        @return:        an integer value of the binary number passed\n",
    "        \"\"\"\n",
    "        dec     = 0\n",
    "        i       = 0\n",
    "        if not isinstance(bin_no,int):\n",
    "            try: bin_no = int(bin_no)\n",
    "            except: raise TypeError\n",
    "        while bin_no>0:\n",
    "            dec     += ((bin_no%10)*(2**i))\n",
    "            bin_no  //= 10\n",
    "            i       += 1\n",
    "        return dec\n",
    "            \n",
    "                        \n",
    "    \n",
    "    @classmethod\n",
    "    def decToBin(cls, dec_no, bit_rep):\n",
    "        \"\"\"\n",
    "        @param dec_no:  an integer value \n",
    "        @param bit_rep: bit representation amount\n",
    "        @return:        a string representation of the decimal value passed\n",
    "        \"\"\"\n",
    "        if dec_no > 0:\n",
    "            return str(bin(dec_no)[2:].zfill(bit_rep))\n",
    "        return '-' + str(bin(dec_no))[2:].zfill(bit_rep)\n",
    "        \n",
    "    \n",
    "    @classmethod\n",
    "    def currencyExchange(cls,con_from,con_to,value):\n",
    "        \"\"\"\n",
    "        @param con_from:a string representation of the currency to convert from\n",
    "        @param con_to:  a string representation of the currency to convert to\n",
    "        @param value:   amount to convert\n",
    "        @return:        the value of the conversion from con_from to con_to of value\n",
    "        \"\"\"\n",
    "        result          = 0\n",
    "        curr_page       = urllib.request.urlopen('http://openexchangerates.org/api/latest.json?app_id=9f0710764c064370932f4f2496968c62')\n",
    "        obj             = curr_page.read().decode(encoding='UTF-8')\n",
    "        content         = json.loads(obj)\n",
    "        try:\n",
    "            _from       = content['rates'][con_from] \n",
    "            _to         = content['rates'][con_to]\n",
    "            convert_amt = _to/_from\n",
    "            result      = convert_amt*value\n",
    "        except:\n",
    "            raise NameError\n",
    "        return result\n",
    "            \n",
    "        \n",
    "    \n",
    "    @classmethod\n",
    "    def tempConvert(cls,msr_from,msr_to,amt):\n",
    "        \"\"\"\n",
    "        @todo:    Rounding... /sigh\n",
    "        @param msr_from:a string representation of the measurement to convert from\n",
    "        @param msr_to:  a string representation of the measurement to convert to\n",
    "        @param amt:     the value to convert\n",
    "        @return:        the converted temperature value\n",
    "        \"\"\"\n",
    "        try: return cls._temps[msr_from[0]+msr_to[0]](amt)\n",
    "        except KeyError: \"Cannot convert from {0} to {1}\".format(msr_from,msr_to)\n",
    "        \n",
    "    pass"
   ]
  },
  {
   "cell_type": "code",
   "execution_count": 62,
   "metadata": {},
   "outputs": [
    {
     "name": "stdout",
     "output_type": "stream",
     "text": [
      "41.0\n"
     ]
    }
   ],
   "source": [
    "new = Converter.tempConvert('c','f',5)\n",
    "print (new)"
   ]
  },
  {
   "cell_type": "code",
   "execution_count": null,
   "metadata": {},
   "outputs": [],
   "source": []
  }
 ],
 "metadata": {
  "kernelspec": {
   "display_name": "Python 3",
   "language": "python",
   "name": "python3"
  },
  "language_info": {
   "codemirror_mode": {
    "name": "ipython",
    "version": 3
   },
   "file_extension": ".py",
   "mimetype": "text/x-python",
   "name": "python",
   "nbconvert_exporter": "python",
   "pygments_lexer": "ipython3",
   "version": "3.8.5"
  }
 },
 "nbformat": 4,
 "nbformat_minor": 4
}
